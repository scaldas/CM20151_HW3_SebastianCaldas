{
 "metadata": {
  "name": "",
  "signature": "sha256:cb48c6195c1ff9d589878519401b54ebe6e098000ad1ebc2ef2e939aaa4bac59"
 },
 "nbformat": 3,
 "nbformat_minor": 0,
 "worksheets": [
  {
   "cells": [
    {
     "cell_type": "heading",
     "level": 1,
     "metadata": {},
     "source": [
      "Archivos Binarios con Python"
     ]
    },
    {
     "cell_type": "heading",
     "level": 3,
     "metadata": {},
     "source": [
      "Por: Sebastian Caldas"
     ]
    },
    {
     "cell_type": "heading",
     "level": 3,
     "metadata": {},
     "source": [
      "La primera definicion que aparece en Google de un archivo binario es: \"aquel que no es un archivo de texto\". Esta definicion es errada, sin embargo. Todo archivo es un archivo binario, solo que los usuarios estamos acostrumbrados a trabajar con archivos de texto, con letras, con ASCII. Al final, todo lo que las masquinas entienden son 0's y 1's (y esta tambien es una abstraccion, pues no se almacenan exactamente 0's y 1's)."
     ]
    },
    {
     "cell_type": "heading",
     "level": 4,
     "metadata": {},
     "source": [
      "Iniciaremos escribiendo un archivo binario (para luego leerlo, por supuesto). Para esto, se usa la funcion open(nombre_archivo, 'wb'). "
     ]
    },
    {
     "cell_type": "code",
     "collapsed": false,
     "input": [
      "f = open('tutorial.bin', 'wb')\n",
      "f.write(b'!Este tutorial es super divertido!')\n",
      "f.close()"
     ],
     "language": "python",
     "metadata": {},
     "outputs": [],
     "prompt_number": 1
    },
    {
     "cell_type": "heading",
     "level": 4,
     "metadata": {},
     "source": [
      "Nota que precedimos el texto que queriamos escribir con una b. Esta es la sintaxis que le indica a python que lo que sigue debe ser traducido a binario. \u00a1OJO! Si el texto tiene caracteres no ASCII, para evitar complicaciones, es mejor codificar un string de la siguiente manera"
     ]
    },
    {
     "cell_type": "code",
     "collapsed": false,
     "input": [
      "f = open('tutorial.bin', 'wb')\n",
      "text = '!Este tutorial es s\u00faper divertido!'\n",
      "f.write(text.encode('utf-8'))\n",
      "f.close()"
     ],
     "language": "python",
     "metadata": {},
     "outputs": [],
     "prompt_number": 2
    },
    {
     "cell_type": "heading",
     "level": 4,
     "metadata": {},
     "source": [
      "Tambien es posible guardar otro tipo de objetos diferentes a texto (recuerda, los archivos binarios van mas alla del texto). Por ejemplo, podemos guardar un arreglo:"
     ]
    },
    {
     "cell_type": "code",
     "collapsed": false,
     "input": [
      "import array\n",
      "nums = array.array('i', [93, 12, 31])\n",
      "f = open('tutorial2.bin','wb')\n",
      "f.write(nums)\n",
      "f.close()"
     ],
     "language": "python",
     "metadata": {},
     "outputs": [],
     "prompt_number": 3
    },
    {
     "cell_type": "heading",
     "level": 4,
     "metadata": {},
     "source": [
      "Ahora, para leer el archivo anterior volvemos a llamar la funcion open(nombre_archivo,'rb') y miraremos exactamente que leemos"
     ]
    },
    {
     "cell_type": "code",
     "collapsed": false,
     "input": [
      "f = open('tutorial.bin', 'rb')\n",
      "data = f.read()\n",
      "f.close()\n",
      "print(data)"
     ],
     "language": "python",
     "metadata": {},
     "outputs": [
      {
       "output_type": "stream",
       "stream": "stdout",
       "text": [
        "b'!Este tutorial es s\\xc3\\xbaper divertido!'\n"
       ]
      }
     ],
     "prompt_number": 4
    },
    {
     "cell_type": "heading",
     "level": 4,
     "metadata": {},
     "source": [
      "Esa b que aparece en frente del contenido significa que el tipo de dato de data es binario. Debemos tener cuidado, pues no es el mismo string que antes teniamos. Ademas, como no hemos decodificado, no todos los caracteres aparecen como queremos."
     ]
    },
    {
     "cell_type": "code",
     "collapsed": false,
     "input": [
      "for element in data:\n",
      "    print(element)"
     ],
     "language": "python",
     "metadata": {},
     "outputs": [
      {
       "output_type": "stream",
       "stream": "stdout",
       "text": [
        "33\n",
        "69\n",
        "115\n",
        "116\n",
        "101\n",
        "32\n",
        "116\n",
        "117\n",
        "116\n",
        "111\n",
        "114\n",
        "105\n",
        "97\n",
        "108\n",
        "32\n",
        "101\n",
        "115\n",
        "32\n",
        "115\n",
        "195\n",
        "186\n",
        "112\n",
        "101\n",
        "114\n",
        "32\n",
        "100\n",
        "105\n",
        "118\n",
        "101\n",
        "114\n",
        "116\n",
        "105\n",
        "100\n",
        "111\n",
        "33\n"
       ]
      }
     ],
     "prompt_number": 45
    },
    {
     "cell_type": "heading",
     "level": 4,
     "metadata": {},
     "source": [
      "\u00bfSi notas que al iterarlo obtenemos ints? Estos son los valores de los bytes traducidos a enteros. Para recuperar nuestro texto, es necesario decodificarlo."
     ]
    },
    {
     "cell_type": "code",
     "collapsed": false,
     "input": [
      "text = data.decode('utf-8')\n",
      "print(text)"
     ],
     "language": "python",
     "metadata": {},
     "outputs": [
      {
       "output_type": "stream",
       "stream": "stdout",
       "text": [
        "!Este tutorial es s\u00faper divertido!\n"
       ]
      }
     ],
     "prompt_number": 46
    },
    {
     "cell_type": "heading",
     "level": 4,
     "metadata": {},
     "source": [
      "\u00bfNotas que ya no hay b precediendo el objeto? Ya tenemos un string. Para leer el arreglo que habiamos guardado antes, usamos el metodo readinto()"
     ]
    },
    {
     "cell_type": "code",
     "collapsed": false,
     "input": [
      "a = array.array('i', [0, 0, 0, 0, 0, 0, 0])\n",
      "f = open('tutorial2.bin', 'rb')\n",
      "f.readinto(a)\n",
      "f.close()\n",
      "print(a)"
     ],
     "language": "python",
     "metadata": {},
     "outputs": [
      {
       "output_type": "stream",
       "stream": "stdout",
       "text": [
        "array('i', [93, 12, 31, 0, 0, 0, 0])\n"
       ]
      }
     ],
     "prompt_number": 5
    },
    {
     "cell_type": "heading",
     "level": 4,
     "metadata": {},
     "source": [
      "Se cargaron los elementos que se habian guardado. Esto de guardar y leer en binario se puede realizar con las estructuras que python adopta de C, como los arreglos :) Con esto dicho, terminamos nuestro divertido tutorial >^.^<"
     ]
    },
    {
     "cell_type": "code",
     "collapsed": false,
     "input": [],
     "language": "python",
     "metadata": {},
     "outputs": []
    }
   ],
   "metadata": {}
  }
 ]
}