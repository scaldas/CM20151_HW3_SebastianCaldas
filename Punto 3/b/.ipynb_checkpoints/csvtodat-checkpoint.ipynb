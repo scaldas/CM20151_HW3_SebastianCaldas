{
 "metadata": {
  "name": "",
  "signature": "sha256:b1176180856d6eca16932690688718c6ff38cccabb916274775e95bf8a62e3af"
 },
 "nbformat": 3,
 "nbformat_minor": 0,
 "worksheets": [
  {
   "cells": [
    {
     "cell_type": "heading",
     "level": 1,
     "metadata": {},
     "source": [
      "Explicar por que lo hice en ipython"
     ]
    },
    {
     "cell_type": "code",
     "collapsed": false,
     "input": [
      "!sed \"s/,/+/g\" Notas.csv > Notas.dat\n",
      "!echo \"Se ha impreso Notas.dat usando comandos de la terminal\""
     ],
     "language": "python",
     "metadata": {},
     "outputs": [
      {
       "output_type": "stream",
       "stream": "stdout",
       "text": [
        "Se ha impreso Notas.dat usando comandos de la terminal\r\n"
       ]
      }
     ],
     "prompt_number": 2
    },
    {
     "cell_type": "code",
     "collapsed": false,
     "input": [],
     "language": "python",
     "metadata": {},
     "outputs": []
    }
   ],
   "metadata": {}
  }
 ]
}